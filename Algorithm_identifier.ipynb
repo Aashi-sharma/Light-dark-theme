{
  "cells": [
    {
      "cell_type": "markdown",
      "metadata": {
        "id": "view-in-github",
        "colab_type": "text"
      },
      "source": [
        "<a href=\"https://colab.research.google.com/github/Aashi-sharma/Light-dark-theme/blob/master/Algorithm_identifier.ipynb\" target=\"_parent\"><img src=\"https://colab.research.google.com/assets/colab-badge.svg\" alt=\"Open In Colab\"/></a>"
      ]
    },
    {
      "cell_type": "code",
      "execution_count": null,
      "metadata": {
        "id": "bbkMC6vVToRv"
      },
      "outputs": [],
      "source": [
        "import pandas as pd\n",
        "import numpy as np\n",
        "from sklearn.model_selection import train_test_split  \n",
        "import matplotlib.pyplot as plt\n"
      ]
    },
    {
      "cell_type": "code",
      "execution_count": null,
      "metadata": {
        "colab": {
          "base_uri": "https://localhost:8080/"
        },
        "id": "pyQ9lkDLKWqF",
        "outputId": "a01e317b-3b5a-4255-ac83-092d02cd0e60"
      },
      "outputs": [
        {
          "name": "stdout",
          "output_type": "stream",
          "text": [
            "Enter your file name : BAJFINANCE.csv\n"
          ]
        }
      ],
      "source": [
        "file_name=input('Enter your file name : ')\n",
        "df=pd.read_csv(file_name)"
      ]
    },
    {
      "cell_type": "code",
      "execution_count": null,
      "metadata": {
        "id": "1lpn5DiMPHbc"
      },
      "outputs": [],
      "source": [
        "# replacing date column to Sno\n",
        "if df.columns.any() == 'Date' and df.columns.any() !='Sno':\n",
        "  df.insert(0, 'Sno', np.arange(len(df)))\n",
        "  dates = df['Date']\n",
        "  del df['Date']"
      ]
    },
    {
      "cell_type": "code",
      "execution_count": null,
      "metadata": {
        "colab": {
          "base_uri": "https://localhost:8080/"
        },
        "id": "YoPjzGyMp4Pc",
        "outputId": "848dc60a-aa03-487f-bb00-e0579cb6550a"
      },
      "outputs": [
        {
          "output_type": "stream",
          "name": "stdout",
          "text": [
            "   Sno      Symbol Series  Prev Close   Open   High   Low   Last  Close  \\\n",
            "0    0  BAJAUTOFIN     EQ       46.95  49.45  50.75  46.5  50.75  50.75   \n",
            "1    1  BAJAUTOFIN     EQ       50.75  53.20  53.20  47.9  48.00  48.10   \n",
            "2    2  BAJAUTOFIN     EQ       48.10  46.55  47.40  44.6  44.60  44.60   \n",
            "3    3  BAJAUTOFIN     EQ       44.60  43.50  46.00  42.1  46.00  45.25   \n",
            "4    4  BAJAUTOFIN     EQ       45.25  48.00  48.00  42.0  42.90  42.90   \n",
            "5    5  BAJAUTOFIN     EQ       42.90  42.05  44.90  41.0  43.00  42.90   \n",
            "6    6  BAJAUTOFIN     EQ       42.90  42.00  42.00  39.5  40.25  40.10   \n",
            "7    7  BAJAUTOFIN     EQ       40.10  40.00  40.00  39.0  39.00  39.00   \n",
            "8    8  BAJAUTOFIN     EQ       39.00  40.00  41.00  38.5  39.50  39.50   \n",
            "9    9  BAJAUTOFIN     EQ       39.50  39.00  40.50  39.0  39.90  39.90   \n",
            "\n",
            "    VWAP  Volume      Turnover  Trades  Deliverable Volume  %Deliverble  \n",
            "0  50.05    7600  3.803800e+10     NaN                 NaN          NaN  \n",
            "1  48.56    5000  2.428000e+10     NaN                 NaN          NaN  \n",
            "2  45.47    3500  1.591450e+10     NaN                 NaN          NaN  \n",
            "3  44.43    6200  2.754750e+10     NaN                 NaN          NaN  \n",
            "4  44.44    3500  1.555550e+10     NaN                 NaN          NaN  \n",
            "5  42.47    4700  1.996100e+10     NaN                 NaN          NaN  \n",
            "6  40.25    5500  2.213900e+10     NaN                 NaN          NaN  \n",
            "7  39.80    1000  3.980000e+09     NaN                 NaN          NaN  \n",
            "8  39.37    1000  3.937000e+09     NaN                 NaN          NaN  \n",
            "9  39.72    1700  6.752000e+09     NaN                 NaN          NaN  \n",
            "Index(['Sno', 'Symbol', 'Series', 'Prev Close', 'Open', 'High', 'Low', 'Last',\n",
            "       'Close', 'VWAP', 'Volume', 'Turnover', 'Trades', 'Deliverable Volume',\n",
            "       '%Deliverble'],\n",
            "      dtype='object')\n"
          ]
        }
      ],
      "source": [
        "  #replacing junk values by nan \n",
        "junk_values=('*','?','#','+','-')\n",
        "for i in range(0,len(df.columns)):\n",
        "   for j in range(0,len(df.index)):\n",
        "     if type(df.iloc[j,i])==str:\n",
        "        s=df.iloc[j,i].startswith(junk_values)\n",
        "        if  s==True:\n",
        "           df=df.replace(df.iloc[j,i],np.nan)\n",
        "print(df.head(10))\n",
        "print(df.columns)\n",
        "       "
      ]
    },
    {
      "cell_type": "code",
      "execution_count": null,
      "metadata": {
        "colab": {
          "base_uri": "https://localhost:8080/"
        },
        "id": "qZCg8VHO5uc0",
        "outputId": "df739cea-5319-41f1-d944-ec57e724ecde"
      },
      "outputs": [
        {
          "output_type": "stream",
          "name": "stdout",
          "text": [
            "Index(['Trades', 'Deliverable Volume', '%Deliverble'], dtype='object')\n"
          ]
        }
      ],
      "source": [
        "#select nan values columns\n",
        "nan_columns=df.columns[df.isnull().any()]\n",
        "print(nan_columns)"
      ]
    },
    {
      "cell_type": "code",
      "execution_count": null,
      "metadata": {
        "colab": {
          "base_uri": "https://localhost:8080/"
        },
        "id": "0DTvRZRTBoe4",
        "outputId": "51b42a9b-51b5-4c63-fb9f-31a567276563"
      },
      "outputs": [
        {
          "output_type": "stream",
          "name": "stdout",
          "text": [
            "Do you want to fill nan values with...\n",
            "1. Mean\n",
            "2. Median\n",
            "Enter 1 or 2: 1\n",
            "Nan values are filled with Mean..\n",
            "       Sno      Symbol Series  Prev Close     Open     High      Low     Last  \\\n",
            "0        0  BAJAUTOFIN     EQ       46.95    49.45    50.75    46.50    50.75   \n",
            "1        1  BAJAUTOFIN     EQ       50.75    53.20    53.20    47.90    48.00   \n",
            "2        2  BAJAUTOFIN     EQ       48.10    46.55    47.40    44.60    44.60   \n",
            "3        3  BAJAUTOFIN     EQ       44.60    43.50    46.00    42.10    46.00   \n",
            "4        4  BAJAUTOFIN     EQ       45.25    48.00    48.00    42.00    42.90   \n",
            "...    ...         ...    ...         ...      ...      ...      ...      ...   \n",
            "5230  5230  BAJFINANCE     EQ     4667.80  4690.00  4829.00  4690.00  4744.00   \n",
            "5231  5231  BAJFINANCE     EQ     4736.55  4747.00  4889.85  4746.55  4886.00   \n",
            "5232  5232  BAJFINANCE     EQ     4865.05  4915.00  5310.00  4915.00  5255.00   \n",
            "5233  5233  BAJFINANCE     EQ     5280.90  5350.00  5525.00  5330.00  5475.00   \n",
            "5234  5234  BAJFINANCE     EQ     5484.85  5350.00  5524.65  5327.70  5449.00   \n",
            "\n",
            "        Close     VWAP   Volume      Turnover         Trades  \\\n",
            "0       50.75    50.05     7600  3.803800e+10   56423.101384   \n",
            "1       48.10    48.56     5000  2.428000e+10   56423.101384   \n",
            "2       44.60    45.47     3500  1.591450e+10   56423.101384   \n",
            "3       45.25    44.43     6200  2.754750e+10   56423.101384   \n",
            "4       42.90    44.44     3500  1.555550e+10   56423.101384   \n",
            "...       ...      ...      ...           ...            ...   \n",
            "5230  4736.55  4768.93  2903989  1.384893e+15  175366.000000   \n",
            "5231  4865.05  4818.15  2644997  1.274399e+15  148957.000000   \n",
            "5232  5280.90  5158.33  8576454  4.424018e+15  466644.000000   \n",
            "5233  5484.85  5440.24  7258486  3.948794e+15  392154.000000   \n",
            "5234  5451.90  5449.83  4124888  2.247992e+15  233718.000000   \n",
            "\n",
            "      Deliverable Volume  %Deliverble  \n",
            "0           1.611350e+05      0.62786  \n",
            "1           1.611350e+05      0.62786  \n",
            "2           1.611350e+05      0.62786  \n",
            "3           1.611350e+05      0.62786  \n",
            "4           1.611350e+05      0.62786  \n",
            "...                  ...          ...  \n",
            "5230        7.685230e+05      0.26460  \n",
            "5231        7.779550e+05      0.29410  \n",
            "5232        1.420176e+06      0.16560  \n",
            "5233        1.537401e+06      0.21180  \n",
            "5234        8.866100e+05      0.21490  \n",
            "\n",
            "[5235 rows x 15 columns]\n"
          ]
        }
      ],
      "source": [
        "#filling missing values in data\n",
        "from sklearn.impute import SimpleImputer\n",
        "op = int(input(\"Do you want to fill nan values with...\\n1. Mean\\n2. Median\\nEnter 1 or 2: \"))\n",
        "if op==1:\n",
        "  imputer=SimpleImputer(missing_values=np.nan,strategy='mean')\n",
        "  imputer=imputer.fit(df[nan_columns])\n",
        "  df[nan_columns]=imputer.transform(df[nan_columns])\n",
        "  print(\"Nan values are filled with Mean..\")\n",
        "elif op==2:\n",
        "  imputer=SimpleImputer(missing_values=np.nan,strategy='median')\n",
        "  imputer=imputer.fit(df[nan_columns])\n",
        "  df[nan_columns]=imputer.transform(df[nan_columns])\n",
        "  print(\"Nan values are filled with Median..\")\n",
        "print(df)\n",
        "  "
      ]
    },
    {
      "cell_type": "code",
      "execution_count": null,
      "metadata": {
        "id": "w2oHPsE9XMSu",
        "colab": {
          "base_uri": "https://localhost:8080/"
        },
        "outputId": "ae8e7ed9-5b50-4306-cba7-a4eb756d3ea6"
      },
      "outputs": [
        {
          "output_type": "stream",
          "name": "stderr",
          "text": [
            "/usr/local/lib/python3.7/dist-packages/ipykernel_launcher.py:3: DeprecationWarning: `np.object` is a deprecated alias for the builtin `object`. To silence this warning, use `object` by itself. Doing this will not modify any behavior and is safe. \n",
            "Deprecated in NumPy 1.20; for more details and guidance: https://numpy.org/devdocs/release/1.20.0-notes.html#deprecations\n",
            "  This is separate from the ipykernel package so we can avoid doing imports until\n"
          ]
        }
      ],
      "source": [
        "# checking classification datatype string in each column\n",
        "for i in range(len(df.columns)):\n",
        "  if df.iloc[:, i].dtype == np.object:\n",
        "    unique = np.unique(df.iloc[:, i])\n",
        "    df.replace(unique, np.arange(len(unique)), inplace=True)"
      ]
    },
    {
      "cell_type": "markdown",
      "metadata": {
        "id": "q-mWEiGePfTq"
      },
      "source": [
        "KFold"
      ]
    },
    {
      "cell_type": "code",
      "execution_count": null,
      "metadata": {
        "id": "Zh7qmBDwlpSb"
      },
      "outputs": [],
      "source": [
        "from  sklearn.model_selection import KFold\n",
        "def kfold(X,Y,model):\n",
        "  Y=np.array(Y).astype(int)\n",
        "  Y=np.ravel(Y)\n",
        "\n",
        "  acc_score=[]\n",
        "  error_rmse=[]\n",
        "  kf=KFold(n_splits=5)\n",
        "  for train_index, test_index in kf.split(X):\n",
        "    X_train,X_test=X.loc[train_index],X.loc[test_index]\n",
        "    Y_train,Y_test=Y[train_index],Y[test_index]\n",
        "    model.fit(X_train,Y_train)\n",
        "    y_pred=model.predict(X_test)\n",
        "    acc=(r2_score(Y_test,y_pred))*100\n",
        "    acc_score.append(acc)\n",
        "  avg_acc_score=sum(acc_score)/s\n",
        "  error=np.sqrt(metrics.mean_squared_error(Y_test,y_pred))\n",
        "  error_rmse.append(error)\n",
        "\n",
        "  avg_rmse=sum(error_rmse)/s\n",
        "\n",
        "  print('Average RMSE using KFold :{}'.format(avg_rmse))\n",
        "  print('Average accuracy using KFold :{}'.format(avg_acc_score))\n",
        "  return avg_rmse,avg_acc_score\n",
        "\n",
        "\n",
        "def kfold_(X,Y,model):\n",
        "  Y=np.array(Y).astype(int)\n",
        "  Y=np.ravel(Y)\n",
        "  \n",
        "\n",
        "  acc_score=[]\n",
        "  error_rmse=[]\n",
        "  kf=KFold(n_splits=5)\n",
        "  for train_index, test_index in kf.split(X):\n",
        "    X_train,X_test=X[train_index],X[test_index]\n",
        "    Y_train,Y_test=Y[train_index],Y[test_index]\n",
        "    model.fit(X_train,Y_train)\n",
        "    y_pred=model.predict(X_train)\n",
        "    acc=(r2_score(Y_train,y_pred))*100\n",
        "    acc_score.append(acc)\n",
        "  avg_acc_score=sum(acc_score)/s\n",
        "  error=np.sqrt(metrics.mean_squared_error(Y_train,y_pred))\n",
        "  error_rmse.append(error)\n",
        "\n",
        "  avg_rmse=sum(error_rmse)/s\n",
        "\n",
        "  print('Average RMSE using KFold :{}'.format(avg_rmse))\n",
        "  print('Average accuracy using KFold :{}'.format(avg_acc_score))\n",
        "  return avg_rmse,avg_acc_score\n",
        "  \n",
        "\n",
        "\n"
      ]
    },
    {
      "cell_type": "markdown",
      "metadata": {
        "id": "Qa2XWsLlMzDa"
      },
      "source": [
        "Train Test Split"
      ]
    },
    {
      "cell_type": "code",
      "execution_count": null,
      "metadata": {
        "id": "Vk1SVC0wmMgM"
      },
      "outputs": [],
      "source": [
        "from sklearn.model_selection import train_test_split\n",
        "def train_test(X,Y,model):\n",
        "  #size=float(input(\"Enter size of test data: \\n\"))\n",
        "\n",
        "  Y=np.array(Y).astype(int)#cast pandas  object to integer\n",
        "  Y=np.ravel(Y)#change a 2 dimensional or multi-dimensional array into a flattened array\n",
        "  X_train,X_test,Y_train,Y_test=train_test_split(X,Y, test_size=0.3,random_state=10)\n",
        "  regressor=model\n",
        "  regressor.fit(X_train,Y_train)\n",
        "  Y_pred_test=regressor.predict(X_test)\n",
        "  Y_pred_train=regressor.predict(X_train)\n",
        "\n",
        "  return Y_pred_test,Y_test,Y_train,Y_pred_train\n",
        "  "
      ]
    },
    {
      "cell_type": "markdown",
      "metadata": {
        "id": "ThpecZ7sMxS5"
      },
      "source": [
        "Accuracy Function"
      ]
    },
    {
      "cell_type": "code",
      "execution_count": null,
      "metadata": {
        "id": "tF7iWwaBmXmw"
      },
      "outputs": [],
      "source": [
        "from sklearn.metrics import r2_score\n",
        "def accuracy_function(Y_test,Y_pred_test,Y_train,Y_pred_train):\n",
        "  r_testing=(r2_score(Y_test,Y_pred_test))*100\n",
        "  r_training=(r2_score(Y_train,Y_pred_train))*100\n",
        "  print(\"Accuracy of training:\",r_training)\n",
        "  print(\"Accuracy of testing:\",r_testing)\n",
        "  return r_training,r_testing"
      ]
    },
    {
      "cell_type": "markdown",
      "metadata": {
        "id": "D5FFjTUBM9sh"
      },
      "source": [
        "Error Function"
      ]
    },
    {
      "cell_type": "code",
      "execution_count": null,
      "metadata": {
        "id": "mmKtvC0XtaJU"
      },
      "outputs": [],
      "source": [
        "from sklearn import metrics\n",
        "def error_function(Y_test,Y_pred_test,Y_train,Y_pred_train):\n",
        "  rmse_training=np.sqrt(metrics.mean_squared_error(Y_train,Y_pred_train))\n",
        "  rmse_testing=np.sqrt(metrics.mean_squared_error(Y_test,Y_pred_test))\n",
        "  print('Root Mean Squared Error of training:',np.sqrt(metrics.mean_squared_error(Y_train,Y_pred_train)))\n",
        "  print('Root Mean Squared Error of testing:',np.sqrt(metrics.mean_squared_error(Y_test,Y_pred_test)))\n",
        "  return rmse_training,rmse_testing\n"
      ]
    },
    {
      "cell_type": "code",
      "execution_count": null,
      "metadata": {
        "colab": {
          "base_uri": "https://localhost:8080/"
        },
        "id": "xch3tcmJmlRJ",
        "outputId": "eb34457a-940e-4e77-f78a-c1950a716af4"
      },
      "outputs": [
        {
          "name": "stdout",
          "output_type": "stream",
          "text": [
            "what you want to predict['Sno', 'Symbol', 'Series', 'Prev Close', 'Open', 'High', 'Low', 'Last', 'Close', 'VWAP', 'Volume', 'Turnover', 'Trades', 'Deliverable Volume', '%Deliverble']\n",
            "Enter your choice:High\n"
          ]
        }
      ],
      "source": [
        "\n",
        "print(\"what you want to predict\"+str(list(df)))\n",
        "choice=str(input('Enter your choice:'))\n",
        "Y=df.loc[:,choice]\n",
        "df_X=df.drop(choice,axis=1)\n",
        "X=df_X[list(df_X)]\n",
        "\n"
      ]
    },
    {
      "cell_type": "code",
      "execution_count": null,
      "metadata": {
        "id": "Hp7YCKj5mto4"
      },
      "outputs": [],
      "source": [
        "Algorithm=['SVR','Random Forest','Multiple Regression','KNN','LogisticRegression']\n",
        "Kfold_accuracy=[]\n",
        "Kfold_error=[]\n",
        "testing_accuracy=[]\n",
        "testing_error=[]\n",
        "training_accuracy=[]\n",
        "training_error=[]"
      ]
    },
    {
      "cell_type": "markdown",
      "metadata": {
        "id": "YJnHhT9qNV83"
      },
      "source": [
        "Scaling Data"
      ]
    },
    {
      "cell_type": "code",
      "execution_count": null,
      "metadata": {
        "id": "cQqzu9v9myFL"
      },
      "outputs": [],
      "source": [
        "Y_r=np.array(Y).reshape(-1,1)\n",
        "from sklearn.preprocessing import StandardScaler\n",
        "sc_X=StandardScaler().fit_transform(X)\n",
        "sc_Y=StandardScaler().fit_transform(Y_r)"
      ]
    },
    {
      "cell_type": "markdown",
      "metadata": {
        "id": "YIp7wsXyPDR2"
      },
      "source": [
        "SVR"
      ]
    },
    {
      "cell_type": "code",
      "execution_count": null,
      "metadata": {
        "colab": {
          "base_uri": "https://localhost:8080/"
        },
        "id": "bU6_TBXqmzZF",
        "outputId": "f964605d-1aa7-45c4-9707-866b1e6606c2"
      },
      "outputs": [
        {
          "output_type": "stream",
          "name": "stderr",
          "text": [
            "/usr/local/lib/python3.7/dist-packages/ipykernel_launcher.py:42: RuntimeWarning: divide by zero encountered in true_divide\n",
            "/usr/local/lib/python3.7/dist-packages/ipykernel_launcher.py:46: RuntimeWarning: divide by zero encountered in true_divide\n"
          ]
        },
        {
          "output_type": "stream",
          "name": "stdout",
          "text": [
            "Average RMSE using KFold :inf\n",
            "Average accuracy using KFold :inf\n",
            "Accuracy of training: 95.64456242060048\n",
            "Accuracy of testing: 94.80419284345191\n",
            "Root Mean Squared Error of training: 0.1390011806502049\n",
            "Root Mean Squared Error of testing: 0.14566643123792317\n"
          ]
        }
      ],
      "source": [
        "from sklearn.svm import SVR\n",
        "model=SVR(kernel='rbf')\n",
        "rmse_svr_Kfold,accuracy_svr_Kfold=kfold_(sc_X,sc_Y,model)\n",
        "Y_pred_test,Y_test,Y_train,Y_pred_train=train_test(sc_X,sc_Y,model)\n",
        "r_training_svr,r_testing_svr=accuracy_function(Y_test,Y_pred_test,Y_train,Y_pred_train)\n",
        "rmse_training_svr,rmse_testing_svr=error_function(Y_test,Y_pred_test,Y_train,Y_pred_train)\n",
        "Kfold_accuracy.append(accuracy_svr_Kfold)\n",
        "Kfold_error.append(rmse_svr_Kfold)\n",
        "testing_accuracy.append(r_testing_svr)\n",
        "testing_error.append(rmse_testing_svr)\n",
        "training_accuracy.append(r_training_svr)\n",
        "training_error.append(rmse_training_svr)"
      ]
    },
    {
      "cell_type": "markdown",
      "metadata": {
        "id": "xxAQVU8rPGZb"
      },
      "source": [
        "Random Forest"
      ]
    },
    {
      "cell_type": "code",
      "execution_count": null,
      "metadata": {
        "colab": {
          "base_uri": "https://localhost:8080/"
        },
        "id": "K_MaByzfm4vi",
        "outputId": "e80cb8f3-e41d-47d8-cfb5-155d69baa953"
      },
      "outputs": [
        {
          "output_type": "stream",
          "name": "stderr",
          "text": [
            "/usr/local/lib/python3.7/dist-packages/ipykernel_launcher.py:16: RuntimeWarning: divide by zero encountered in true_divide\n",
            "  app.launch_new_instance()\n",
            "/usr/local/lib/python3.7/dist-packages/ipykernel_launcher.py:20: RuntimeWarning: divide by zero encountered in true_divide\n"
          ]
        },
        {
          "output_type": "stream",
          "name": "stdout",
          "text": [
            "Average RMSE using KFold :inf\n",
            "Average accuracy using KFold :inf\n",
            "Accuracy of training: 99.9970871369156\n",
            "Accuracy of testing: 99.9780060266904\n",
            "Root Mean Squared Error of training: 10.192307951369296\n",
            "Root Mean Squared Error of testing: 27.47670725827319\n"
          ]
        }
      ],
      "source": [
        "from sklearn.ensemble import RandomForestRegressor\n",
        "model=RandomForestRegressor(n_estimators=100,random_state=0)\n",
        "rmse_random_Kfold,accuracy_random_Kfold=kfold(X,Y,model)\n",
        "Y_pred_test,Y_test,Y_train,Y_pred_train=train_test(X,Y,model)\n",
        "r_training_random,r_testing_random=accuracy_function(Y_test,Y_pred_test,Y_train,Y_pred_train)\n",
        "rmse_training_random,rmse_testing_random=error_function(Y_test,Y_pred_test,Y_train,Y_pred_train)\n",
        "Kfold_accuracy.append(accuracy_random_Kfold)\n",
        "Kfold_error.append(rmse_random_Kfold)\n",
        "testing_accuracy.append(r_testing_random)\n",
        "testing_error.append(rmse_testing_random)\n",
        "training_accuracy.append(r_training_random)\n",
        "training_error.append(rmse_training_random)"
      ]
    },
    {
      "cell_type": "markdown",
      "metadata": {
        "id": "H6tONss4PMP1"
      },
      "source": [
        "Multiple Linear Regression"
      ]
    },
    {
      "cell_type": "code",
      "execution_count": null,
      "metadata": {
        "colab": {
          "base_uri": "https://localhost:8080/"
        },
        "id": "ughH90Wlm8vJ",
        "outputId": "47904d48-8dee-412d-aa46-c4a4a88ee55a"
      },
      "outputs": [
        {
          "output_type": "stream",
          "name": "stdout",
          "text": [
            "Average RMSE using KFold :inf\n",
            "Average accuracy using KFold :inf\n",
            "Accuracy of training: 99.99485991957346\n",
            "Accuracy of testing: 99.99451760147635\n",
            "Root Mean Squared Error of training: 13.539338878475155\n",
            "Root Mean Squared Error of testing: 13.718231921395907\n"
          ]
        },
        {
          "output_type": "stream",
          "name": "stderr",
          "text": [
            "/usr/local/lib/python3.7/dist-packages/ipykernel_launcher.py:16: RuntimeWarning: divide by zero encountered in true_divide\n",
            "  app.launch_new_instance()\n",
            "/usr/local/lib/python3.7/dist-packages/ipykernel_launcher.py:20: RuntimeWarning: divide by zero encountered in true_divide\n"
          ]
        }
      ],
      "source": [
        "from sklearn.linear_model import LinearRegression\n",
        "model=LinearRegression()\n",
        "rmse_multiple_Kfold,accuracy_multiple_Kfold=kfold(X,Y,model)\n",
        "Y_pred_test,Y_test,Y_train,Y_pred_train=train_test(X,Y,model)\n",
        "r_training_multiple,r_testing_multiple=accuracy_function(Y_test,Y_pred_test,Y_train,Y_pred_train)\n",
        "rmse_training_multiple,rmse_testing_multiple=error_function(Y_test,Y_pred_test,Y_train,Y_pred_train)\n",
        "Kfold_accuracy.append(accuracy_multiple_Kfold)\n",
        "Kfold_error.append(rmse_multiple_Kfold)\n",
        "testing_accuracy.append(r_testing_multiple)\n",
        "testing_error.append(rmse_testing_multiple)\n",
        "training_accuracy.append(r_training_multiple)\n",
        "training_error.append(rmse_training_multiple)"
      ]
    },
    {
      "cell_type": "markdown",
      "metadata": {
        "id": "FzGIurpXPR_l"
      },
      "source": [
        "KNN"
      ]
    },
    {
      "cell_type": "code",
      "execution_count": null,
      "metadata": {
        "colab": {
          "base_uri": "https://localhost:8080/"
        },
        "id": "2BF2sOMOnBWw",
        "outputId": "a12ace59-724a-4c8e-d07a-82b6dff5324f"
      },
      "outputs": [
        {
          "output_type": "stream",
          "name": "stderr",
          "text": [
            "/usr/local/lib/python3.7/dist-packages/ipykernel_launcher.py:42: RuntimeWarning: divide by zero encountered in true_divide\n",
            "/usr/local/lib/python3.7/dist-packages/ipykernel_launcher.py:46: RuntimeWarning: divide by zero encountered in true_divide\n"
          ]
        },
        {
          "output_type": "stream",
          "name": "stdout",
          "text": [
            "Average RMSE using KFold :inf\n",
            "Average accuracy using KFold :inf\n",
            "Accuracy of training: 97.47754627635665\n",
            "Accuracy of testing: 95.9474234598205\n",
            "Root Mean Squared Error of training: 0.10578258992801097\n",
            "Root Mean Squared Error of testing: 0.12864667960401516\n"
          ]
        }
      ],
      "source": [
        "from sklearn.neighbors import KNeighborsClassifier\n",
        "model=KNeighborsClassifier(n_neighbors=7)\n",
        "rmse_knn_Kfold,accuracy_knn_Kfold=kfold_(sc_X,sc_Y,model)\n",
        "Y_pred_test,Y_test,Y_train,Y_pred_train=train_test(sc_X,sc_Y,model)\n",
        "r_training_knn,r_testing_knn=accuracy_function(Y_test,Y_pred_test,Y_train,Y_pred_train)\n",
        "rmse_training_knn,rmse_testing_knn=error_function(Y_test,Y_pred_test,Y_train,Y_pred_train)\n",
        "Kfold_accuracy.append(accuracy_knn_Kfold)\n",
        "Kfold_error.append(rmse_knn_Kfold)\n",
        "testing_accuracy.append(r_testing_knn)\n",
        "testing_error.append(rmse_testing_knn)\n",
        "training_accuracy.append(r_training_knn)\n",
        "training_error.append(rmse_training_knn)"
      ]
    },
    {
      "cell_type": "markdown",
      "metadata": {
        "id": "nKsGVv9QPVNZ"
      },
      "source": [
        "Logistic Regression"
      ]
    },
    {
      "cell_type": "code",
      "execution_count": null,
      "metadata": {
        "colab": {
          "base_uri": "https://localhost:8080/"
        },
        "id": "v1REyuZ4nGVK",
        "outputId": "3a5e0910-5e29-4c7e-96a2-b9ba5c0b409f"
      },
      "outputs": [
        {
          "output_type": "stream",
          "name": "stdout",
          "text": [
            "Average RMSE using KFold :inf\n",
            "Average accuracy using KFold :inf\n",
            "Accuracy of training: 81.66606805742148\n",
            "Accuracy of testing: 84.72490381009264\n",
            "Root Mean Squared Error of training: 0.2851874431479367\n",
            "Root Mean Squared Error of testing: 0.24976118447024984\n"
          ]
        },
        {
          "output_type": "stream",
          "name": "stderr",
          "text": [
            "/usr/local/lib/python3.7/dist-packages/ipykernel_launcher.py:42: RuntimeWarning: divide by zero encountered in true_divide\n",
            "/usr/local/lib/python3.7/dist-packages/ipykernel_launcher.py:46: RuntimeWarning: divide by zero encountered in true_divide\n"
          ]
        }
      ],
      "source": [
        "from sklearn.linear_model import LogisticRegression\n",
        "model=LogisticRegression(solver='liblinear')\n",
        "rmse_logistic_Kfold,accuracy_logistic_Kfold=kfold_(sc_X,sc_Y,model)\n",
        "Y_pred_test,Y_test,Y_train,Y_pred_train=train_test(sc_X,sc_Y,model)\n",
        "r_training_logistic,r_testing_logistic=accuracy_function(Y_test,Y_pred_test,Y_train,Y_pred_train)\n",
        "rmse_training_logistic,rmse_testing_logistic=error_function(Y_test,Y_pred_test,Y_train,Y_pred_train)\n",
        "Kfold_accuracy.append(accuracy_logistic_Kfold)\n",
        "Kfold_error.append(rmse_logistic_Kfold)\n",
        "testing_accuracy.append(r_testing_logistic)\n",
        "testing_error.append(rmse_testing_logistic)\n",
        "training_accuracy.append(r_training_logistic)\n",
        "training_error.append(rmse_training_logistic)"
      ]
    },
    {
      "cell_type": "code",
      "source": [
        "from sklearn.preprocessing import MinMaxScaler\n",
        "scaler=MinMaxScaler(feature_range=(0,1))\n",
        "df1=scaler.fit_transform(np.array(df).reshape(-1,1))"
      ],
      "metadata": {
        "id": "hzrYUDodRrcQ"
      },
      "execution_count": null,
      "outputs": []
    },
    {
      "cell_type": "code",
      "source": [
        "from sklearn.preprocessing import MinMaxScaler\n",
        "scaler=MinMaxScaler(feature_range=(0,1))\n",
        "df1=scaler.fit_transform(np.array(df1).reshape(-1,1))\n"
      ],
      "metadata": {
        "id": "ecSXqR6IR6zm"
      },
      "execution_count": null,
      "outputs": []
    },
    {
      "cell_type": "code",
      "source": [
        "training_size=int(len(df1)*0.80)\n",
        "test_size=len(df1)-training_size\n",
        "train_data,test_data=df1[0:training_size, :],df1[training_size:len(df1), :1]"
      ],
      "metadata": {
        "id": "ImQqCy48TJMt"
      },
      "execution_count": null,
      "outputs": []
    },
    {
      "cell_type": "code",
      "source": [
        "import numpy\n",
        "def create_dataset(dataset, time_step=1):\n",
        "  dataX,dataY=[],[]\n",
        "  for i in range(len(dataset)-time_step-1):\n",
        "    a=dataset[i:(i+time_step), 0]\n",
        "    dataX.append(a)\n",
        "    dataY.append(dataset[i+time_step, 0])\n",
        "  return numpy.array(dataX),numpy.array(dataY)"
      ],
      "metadata": {
        "id": "rZVFbgJXTMC6"
      },
      "execution_count": null,
      "outputs": []
    },
    {
      "cell_type": "code",
      "source": [
        "t_step=int(input(\"Enter the time steps\"))\n",
        "time_step=t_step\n",
        "X_train,Y_train=create_dataset(train_data,time_step)\n",
        "X_test,Y_test=create_dataset(test_data,time_step)"
      ],
      "metadata": {
        "colab": {
          "base_uri": "https://localhost:8080/"
        },
        "id": "0pgVmGviTU4C",
        "outputId": "aaef9ae5-a906-4bae-e5ce-cf03d54a942e"
      },
      "execution_count": null,
      "outputs": [
        {
          "name": "stdout",
          "output_type": "stream",
          "text": [
            "Enter the time steps100\n"
          ]
        }
      ]
    },
    {
      "cell_type": "code",
      "source": [
        "print(X_train)"
      ],
      "metadata": {
        "colab": {
          "base_uri": "https://localhost:8080/"
        },
        "id": "9JUNUTpqTdH_",
        "outputId": "b47be9b5-94c8-4480-b2e4-c6e795c73543"
      },
      "execution_count": null,
      "outputs": [
        {
          "output_type": "stream",
          "name": "stdout",
          "text": [
            "[[0.00000000e+00 0.00000000e+00 0.00000000e+00 ... 4.58012390e-15\n",
            "  4.56305512e-15 4.58012390e-15]\n",
            " [0.00000000e+00 0.00000000e+00 5.34252962e-15 ... 4.56305512e-15\n",
            "  4.58012390e-15 6.25855440e-13]\n",
            " [0.00000000e+00 5.34252962e-15 5.62700937e-15 ... 4.58012390e-15\n",
            "  6.25855440e-13 2.51923883e-06]\n",
            " ...\n",
            " [1.13791898e-16 0.00000000e+00 1.05798017e-13 ... 1.19179945e-13\n",
            "  1.19802386e-13 1.02763074e-10]\n",
            " [0.00000000e+00 1.05798017e-13 1.05963016e-13 ... 1.19802386e-13\n",
            "  1.02763074e-10 1.08191376e-02]\n",
            " [1.05798017e-13 1.05963016e-13 1.14474650e-13 ... 1.02763074e-10\n",
            "  1.08191376e-02 3.16295960e-12]]\n"
          ]
        }
      ]
    },
    {
      "cell_type": "code",
      "source": [
        "print(X_test.shape),print(Y_test.shape)"
      ],
      "metadata": {
        "colab": {
          "base_uri": "https://localhost:8080/"
        },
        "id": "iNpAibFETi-e",
        "outputId": "ae3082ad-f68f-43be-bd23-319682c22cda"
      },
      "execution_count": null,
      "outputs": [
        {
          "output_type": "stream",
          "name": "stdout",
          "text": [
            "(15604, 100)\n",
            "(15604,)\n"
          ]
        },
        {
          "output_type": "execute_result",
          "data": {
            "text/plain": [
              "(None, None)"
            ]
          },
          "metadata": {},
          "execution_count": 54
        }
      ]
    },
    {
      "cell_type": "code",
      "source": [
        "X_train=X_train.reshape(X_train.shape[0],X_train.shape[1],1)\n",
        "X_test=X_test.reshape(X_test.shape[0],X_train.shape[1],1)\n",
        "print(Y_train)"
      ],
      "metadata": {
        "colab": {
          "base_uri": "https://localhost:8080/"
        },
        "id": "ScOBn94FTncb",
        "outputId": "f560d0dd-4532-46b3-e659-13200de34033"
      },
      "execution_count": null,
      "outputs": [
        {
          "output_type": "stream",
          "name": "stdout",
          "text": [
            "[6.25855440e-13 2.51923883e-06 6.42049181e-12 ... 1.08191376e-02\n",
            " 3.16295960e-12 4.35384871e-11]\n"
          ]
        }
      ]
    },
    {
      "cell_type": "code",
      "source": [
        "from tensorflow.keras.models import Sequential\n",
        "from tensorflow.keras.layers import Dense\n",
        "from tensorflow.keras.layers import LSTM\n",
        "from keras.layers import Bidirectional"
      ],
      "metadata": {
        "id": "ax-n-kqNTr9g"
      },
      "execution_count": null,
      "outputs": []
    },
    {
      "cell_type": "code",
      "source": [
        "from keras.models import Sequential\n",
        "from keras.layers import Dropout\n",
        "model=Sequential()\n",
        "model.add(LSTM(100, activation='tanh', recurrent_activation='hard_sigmoid',input_shape=(t_step,1)))\n",
        "model.add(Dense(50 ))\n",
        "model.add(Dropout(0.3))\n",
        "model.add(Dense(50))\n",
        "model.add(Dropout(0.3))\n",
        "model.add(Dense(1,activation='linear'))"
      ],
      "metadata": {
        "id": "COjTCarhTwa1"
      },
      "execution_count": null,
      "outputs": []
    },
    {
      "cell_type": "code",
      "source": [
        "model.compile(optimizer='RMSprop',loss='mean_squared_error')\n",
        "history=model.fit(X_train,Y_train,batch_size=100,epochs=11,shuffle=False)\n",
        "print(history)"
      ],
      "metadata": {
        "colab": {
          "base_uri": "https://localhost:8080/"
        },
        "id": "7QAO88bYX65z",
        "outputId": "70e1b759-4d9a-43a2-ffee-fc971b1d2c3d"
      },
      "execution_count": null,
      "outputs": [
        {
          "output_type": "stream",
          "name": "stdout",
          "text": [
            "Epoch 1/11\n",
            "628/628 [==============================] - 134s 205ms/step - loss: 2.6634e-05\n",
            "Epoch 2/11\n",
            "628/628 [==============================] - 127s 202ms/step - loss: 3.0932e-06\n",
            "Epoch 3/11\n",
            "628/628 [==============================] - 126s 201ms/step - loss: 2.0042e-06\n",
            "Epoch 4/11\n",
            "628/628 [==============================] - 127s 202ms/step - loss: 1.9942e-06\n",
            "Epoch 5/11\n",
            "628/628 [==============================] - 126s 201ms/step - loss: 1.9997e-06\n",
            "Epoch 6/11\n",
            "628/628 [==============================] - 126s 201ms/step - loss: 1.9992e-06\n",
            "Epoch 7/11\n",
            "628/628 [==============================] - 126s 201ms/step - loss: 1.9939e-06\n",
            "Epoch 8/11\n",
            "628/628 [==============================] - 126s 201ms/step - loss: 1.9956e-06\n",
            "Epoch 9/11\n",
            "628/628 [==============================] - 126s 201ms/step - loss: 1.9934e-06\n",
            "Epoch 10/11\n",
            "628/628 [==============================] - 126s 201ms/step - loss: 1.9912e-06\n",
            "Epoch 11/11\n",
            "628/628 [==============================] - 126s 201ms/step - loss: 1.9888e-06\n",
            "<keras.callbacks.History object at 0x7f5d3b4931d0>\n"
          ]
        }
      ]
    },
    {
      "cell_type": "code",
      "source": [
        "import math\n",
        "X_test=np.reshape(X_test,(X_test.shape[0],X_test.shape[1],-1))\n",
        "score_train=model.evaluate(X_train,Y_train,batch_size=1)\n",
        "score_test=model.evaluate(X_test,Y_test,batch_size=1)\n",
        "print(\"in train MSE=\",round(score_train,4))\n",
        "print(\"in test MSE=\",score_test)\n",
        "rmse_train = math. sqrt(score_train)\n",
        "rmse_test = math. sqrt(score_test)\n",
        "print(\"Train RMSE\",round(rmse_train,4))\n",
        "print(\"test RMSE\",rmse_test)"
      ],
      "metadata": {
        "colab": {
          "base_uri": "https://localhost:8080/"
        },
        "id": "fboySlHwUK9H",
        "outputId": "0f4ec6d0-a7aa-40c9-e404-3ff70846233e"
      },
      "execution_count": null,
      "outputs": [
        {
          "output_type": "stream",
          "name": "stdout",
          "text": [
            "62719/62719 [==============================] - 492s 8ms/step - loss: 3.4594e-06\n",
            "15604/15604 [==============================] - 121s 8ms/step - loss: 0.0016\n",
            "in train MSE= 0.0\n",
            "in test MSE= 0.001554357004351914\n",
            "Train RMSE 0.0019\n",
            "test RMSE 0.039425334549651116\n"
          ]
        }
      ]
    },
    {
      "cell_type": "code",
      "source": [
        "model.summary()\n"
      ],
      "metadata": {
        "colab": {
          "base_uri": "https://localhost:8080/"
        },
        "id": "gC4awvhWUPS7",
        "outputId": "4ed77ab0-6297-4687-ac26-3358012b34f2"
      },
      "execution_count": null,
      "outputs": [
        {
          "output_type": "stream",
          "name": "stdout",
          "text": [
            "Model: \"sequential_2\"\n",
            "_________________________________________________________________\n",
            " Layer (type)                Output Shape              Param #   \n",
            "=================================================================\n",
            " lstm_1 (LSTM)               (None, 100)               40800     \n",
            "                                                                 \n",
            " dense_3 (Dense)             (None, 50)                5050      \n",
            "                                                                 \n",
            " dropout_2 (Dropout)         (None, 50)                0         \n",
            "                                                                 \n",
            " dense_4 (Dense)             (None, 50)                2550      \n",
            "                                                                 \n",
            " dropout_3 (Dropout)         (None, 50)                0         \n",
            "                                                                 \n",
            " dense_5 (Dense)             (None, 1)                 51        \n",
            "                                                                 \n",
            "=================================================================\n",
            "Total params: 48,451\n",
            "Trainable params: 48,451\n",
            "Non-trainable params: 0\n",
            "_________________________________________________________________\n"
          ]
        }
      ]
    },
    {
      "cell_type": "code",
      "source": [
        "train_predict=model.predict(X_train)\n",
        "test_predict=model.predict(X_test)\n",
        "print(train_predict.shape)\n",
        "print(test_predict.shape)\n",
        "train_predict=train_predict.reshape(-1,1)\n",
        "test_predict=test_predict.reshape(-1,1)\n",
        "print(train_predict.shape)\n",
        "print(test_predict.shape)\n"
      ],
      "metadata": {
        "colab": {
          "base_uri": "https://localhost:8080/"
        },
        "id": "LbxxiKQOUZAq",
        "outputId": "8beaba1a-da48-4d3e-8289-f9e52517cf9b"
      },
      "execution_count": null,
      "outputs": [
        {
          "output_type": "stream",
          "name": "stdout",
          "text": [
            "(62719, 1)\n",
            "(15604, 1)\n",
            "(62719, 1)\n",
            "(15604, 1)\n"
          ]
        }
      ]
    },
    {
      "cell_type": "code",
      "source": [
        "train_predict=scaler.inverse_transform(train_predict)\n",
        "test_predict=scaler.inverse_transform(test_predict)\n",
        "print(train_predict.shape)\n",
        "print(test_predict.shape)\n"
      ],
      "metadata": {
        "colab": {
          "base_uri": "https://localhost:8080/"
        },
        "id": "QDwqbb7WUfYd",
        "outputId": "0011280f-b8ba-449e-c237-52f7dc7eeb88"
      },
      "execution_count": null,
      "outputs": [
        {
          "output_type": "stream",
          "name": "stdout",
          "text": [
            "(62719, 1)\n",
            "(15604, 1)\n"
          ]
        }
      ]
    },
    {
      "cell_type": "code",
      "source": [
        "import math\n",
        "from sklearn.metrics import mean_squared_error\n",
        "from sklearn.metrics import r2_score\n",
        "print(Y_train.shape)\n",
        "print(train_predict.shape)"
      ],
      "metadata": {
        "colab": {
          "base_uri": "https://localhost:8080/"
        },
        "id": "LJULqQWHUj9d",
        "outputId": "53610e17-2375-4c3d-ad92-330bb4eb4e58"
      },
      "execution_count": null,
      "outputs": [
        {
          "output_type": "stream",
          "name": "stdout",
          "text": [
            "(62719,)\n",
            "(62719, 1)\n"
          ]
        }
      ]
    },
    {
      "cell_type": "code",
      "source": [
        "look_back=100\n",
        "trainPredictPlot=numpy.empty_like(df1)\n",
        "trainPredictPlot[:,:]=np.nan\n",
        "trainPredictPlot[look_back:len(train_predict)+look_back, :]=train_predict\n",
        "\n",
        "testPredictPlot=numpy.empty_like(df1)\n",
        "testPredictPlot[:, :]=numpy.nan\n",
        "testPredictPlot[len(train_predict)+(look_back*2)+1:len(df1)-1, :]=test_predict\n",
        "\n",
        "plt.plot(scaler.inverse_transform(df1))\n",
        "plt.plot(trainPredictPlot)\n",
        "plt.plot(testPredictPlot)\n",
        "plt.show()"
      ],
      "metadata": {
        "colab": {
          "base_uri": "https://localhost:8080/",
          "height": 265
        },
        "id": "EdoQudr5UnFc",
        "outputId": "1b8e1154-3b48-43d0-c6df-cbf0a55fb20e"
      },
      "execution_count": null,
      "outputs": [
        {
          "output_type": "display_data",
          "data": {
            "text/plain": [
              "<Figure size 432x288 with 1 Axes>"
            ],
            "image/png": "[encoded data removed]"
          },
          "metadata": {
            "needs_background": "light"
          }
        }
      ]
    },
    {
      "cell_type": "code",
      "source": [
        "X_input=test_data[947 :].reshape(1,-1)\n",
        "X_input.shape"
      ],
      "metadata": {
        "colab": {
          "base_uri": "https://localhost:8080/"
        },
        "id": "noEi9XRxUst3",
        "outputId": "7b426c8a-8fa4-4b27-ae5a-b75df77b906c"
      },
      "execution_count": null,
      "outputs": [
        {
          "output_type": "execute_result",
          "data": {
            "text/plain": [
              "(1, 14758)"
            ]
          },
          "metadata": {},
          "execution_count": 67
        }
      ]
    },
    {
      "cell_type": "code",
      "source": [
        "temp_input=list(X_input)\n",
        "temp_input=temp_input[0].tolist()"
      ],
      "metadata": {
        "id": "ZvBM5K5NU1bO"
      },
      "execution_count": null,
      "outputs": []
    },
    {
      "cell_type": "code",
      "source": [
        "from numpy import array\n",
        "lst_output=[]\n",
        "n_steps=100\n",
        "i=0\n",
        "while(i<3):\n",
        "  if(len(temp_input)>100):\n",
        "    x_input=np.array(temp_input[1:])\n",
        "    print(\"{} day input {}\".format(i,x_input))\n",
        "    X_input=X_input.reshape(1,-1)\n",
        "    X_input=X_input.reshape((1,n_steps,1))\n",
        "    yhat=model.predict(X_input,verbose=0)\n",
        "    print(\"{} day output {}\".format(i,yhat))\n",
        "    temp_input.extend(yhat[0].tolist())\n",
        "    temp_input=temp_input[1:]\n",
        "    lst_output.extend(yhat.tolist())\n",
        "    i=i+1\n",
        "  else:\n",
        "    X_input=X_input.reshape((1,n_steps,1))\n",
        "    yhat=model.predict(X_input,verbose=0)\n",
        "    print(yhat[0])\n",
        "    temp_input.extend(yhat[0].tolist())\n",
        "    print(len(temp_input))\n",
        "    lst_output.extend(yhat.tolist())\n",
        "    i=i+1\n",
        "print(lst_output)"
      ],
      "metadata": {
        "colab": {
          "base_uri": "https://localhost:8080/",
          "height": 270
        },
        "id": "xgi-X-B8U-x0",
        "outputId": "42041095-b4b6-4782-adab-751eb79335fa"
      },
      "execution_count": null,
      "outputs": [
        {
          "output_type": "stream",
          "name": "stdout",
          "text": [
            "0 day input [1.51001849e-13 1.51906494e-13 1.53038724e-13 ... 2.65952149e-11\n",
            " 1.00889035e-10 2.44538789e-17]\n"
          ]
        },
        {
          "output_type": "error",
          "ename": "ValueError",
          "evalue": "ignored",
          "traceback": [
            "\u001b[0;31m---------------------------------------------------------------------------\u001b[0m",
            "\u001b[0;31mValueError\u001b[0m                                Traceback (most recent call last)",
            "\u001b[0;32m<ipython-input-69-9d0936ef4a6f>\u001b[0m in \u001b[0;36m<module>\u001b[0;34m()\u001b[0m\n\u001b[1;32m      8\u001b[0m     \u001b[0mprint\u001b[0m\u001b[0;34m(\u001b[0m\u001b[0;34m\"{} day input {}\"\u001b[0m\u001b[0;34m.\u001b[0m\u001b[0mformat\u001b[0m\u001b[0;34m(\u001b[0m\u001b[0mi\u001b[0m\u001b[0;34m,\u001b[0m\u001b[0mx_input\u001b[0m\u001b[0;34m)\u001b[0m\u001b[0;34m)\u001b[0m\u001b[0;34m\u001b[0m\u001b[0;34m\u001b[0m\u001b[0m\n\u001b[1;32m      9\u001b[0m     \u001b[0mX_input\u001b[0m\u001b[0;34m=\u001b[0m\u001b[0mX_input\u001b[0m\u001b[0;34m.\u001b[0m\u001b[0mreshape\u001b[0m\u001b[0;34m(\u001b[0m\u001b[0;36m1\u001b[0m\u001b[0;34m,\u001b[0m\u001b[0;34m-\u001b[0m\u001b[0;36m1\u001b[0m\u001b[0;34m)\u001b[0m\u001b[0;34m\u001b[0m\u001b[0;34m\u001b[0m\u001b[0m\n\u001b[0;32m---> 10\u001b[0;31m     \u001b[0mX_input\u001b[0m\u001b[0;34m=\u001b[0m\u001b[0mX_input\u001b[0m\u001b[0;34m.\u001b[0m\u001b[0mreshape\u001b[0m\u001b[0;34m(\u001b[0m\u001b[0;34m(\u001b[0m\u001b[0;36m1\u001b[0m\u001b[0;34m,\u001b[0m\u001b[0mn_steps\u001b[0m\u001b[0;34m,\u001b[0m\u001b[0;36m1\u001b[0m\u001b[0;34m)\u001b[0m\u001b[0;34m)\u001b[0m\u001b[0;34m\u001b[0m\u001b[0;34m\u001b[0m\u001b[0m\n\u001b[0m\u001b[1;32m     11\u001b[0m     \u001b[0myhat\u001b[0m\u001b[0;34m=\u001b[0m\u001b[0mmodel\u001b[0m\u001b[0;34m.\u001b[0m\u001b[0mpredict\u001b[0m\u001b[0;34m(\u001b[0m\u001b[0mX_input\u001b[0m\u001b[0;34m,\u001b[0m\u001b[0mverbose\u001b[0m\u001b[0;34m=\u001b[0m\u001b[0;36m0\u001b[0m\u001b[0;34m)\u001b[0m\u001b[0;34m\u001b[0m\u001b[0;34m\u001b[0m\u001b[0m\n\u001b[1;32m     12\u001b[0m     \u001b[0mprint\u001b[0m\u001b[0;34m(\u001b[0m\u001b[0;34m\"{} day output {}\"\u001b[0m\u001b[0;34m.\u001b[0m\u001b[0mformat\u001b[0m\u001b[0;34m(\u001b[0m\u001b[0mi\u001b[0m\u001b[0;34m,\u001b[0m\u001b[0myhat\u001b[0m\u001b[0;34m)\u001b[0m\u001b[0;34m)\u001b[0m\u001b[0;34m\u001b[0m\u001b[0;34m\u001b[0m\u001b[0m\n",
            "\u001b[0;31mValueError\u001b[0m: cannot reshape array of size 14758 into shape (1,100,1)"
          ]
        }
      ]
    },
    {
      "cell_type": "code",
      "source": [
        "day_new=np.arange(1,101)\n",
        "day_pred=np.arange(101,104)"
      ],
      "metadata": {
        "id": "fe0nFOczVDND"
      },
      "execution_count": null,
      "outputs": []
    },
    {
      "cell_type": "code",
      "source": [
        "df3=df1.tolist()\n",
        "df3.extend(lst_output)"
      ],
      "metadata": {
        "id": "LssxjP74VMIi"
      },
      "execution_count": null,
      "outputs": []
    },
    {
      "cell_type": "code",
      "source": [
        "from sklearn.metrics import r2_score\n",
        "r2=r2_score(Y_test,test_predict)\n",
        "print(r2)\n",
        "MAPE_value=np.mean(np.abs((Y_test - test_predict) / Y_test)) * 100\n",
        "print(MAPE_value)"
      ],
      "metadata": {
        "id": "GCJ1KL0aVR4W"
      },
      "execution_count": null,
      "outputs": []
    },
    {
      "cell_type": "code",
      "source": [
        "len(df1)"
      ],
      "metadata": {
        "id": "GqbddB9yVWER"
      },
      "execution_count": null,
      "outputs": []
    },
    {
      "cell_type": "code",
      "source": [
        "plt.plot(day_new,scaler.inverse_transform(df1[5135:]))\n",
        "print(day_pred),print(lst_output)\n",
        "plt.plot(day_pred,scaler.inverse_transform(lst_output))"
      ],
      "metadata": {
        "id": "SiAzoeAmVZpt"
      },
      "execution_count": null,
      "outputs": []
    },
    {
      "cell_type": "code",
      "source": [
        "plt.plot(test_predict,label=\"predictions\",c='g')\n",
        "y_test=scaler.inverse_transform(np.array(Y_test).reshape((len(Y_test),1)))\n",
        "plt.plot([row[0]for row in y_test],label='actual',c='r')\n",
        "plt.figure(figsize=(10,5))\n",
        "plt.plot(test_predict,label=\"predicted\",c=\"g\")\n",
        "plt.plot([row[0]for row in y_test],label=\"actual\",c='r')\n",
        "plt.legend()\n",
        "plt.show()"
      ],
      "metadata": {
        "id": "H3xiX1SgVddg"
      },
      "execution_count": null,
      "outputs": []
    },
    {
      "cell_type": "code",
      "execution_count": null,
      "metadata": {
        "id": "tXcbcVDAPlji"
      },
      "outputs": [],
      "source": [
        "df_table=pd.DataFrame({'Algorithm':['SVR','Random Forest','Multiple Regression','KNN','LogisticRegression'],'KFold_Accuracy':Kfold_accuracy,'KFold Error':Kfold_error,'Training_Accuracy':training_accuracy,\n",
        "                        'Traning Error':training_error,'Testing_Accuracy':testing_accuracy,'Testing Error':testing_error})\n",
        "print(df_table)"
      ]
    },
    {
      "cell_type": "code",
      "execution_count": null,
      "metadata": {
        "id": "YUF1yrIyTuij"
      },
      "outputs": [],
      "source": [
        "import matplotlib.pyplot as plt\n",
        "plt.figure(figsize=(18,8))\n",
        "plt.plot(Algorithm,Kfold_accuracy,color='m',linewidth=2,label='KFold Accuracy')\n",
        "plt.plot(Algorithm,Kfold_error,color='green',linewidth=2,label='KFold Error')\n",
        "plt.plot(Algorithm,training_accuracy,color='blue',linewidth=2,label='Training Accuracy')\n",
        "plt.plot(Algorithm,testing_accuracy,color='purple',linewidth=2,label='Testing Accuracy')\n",
        "plt.plot(Algorithm,training_error,color='red',linewidth=2,label='Training Error')\n",
        "plt.plot(Algorithm,testing_error,color='orange',linewidth=2,label='Testing Error')\n",
        "plt.legend()"
      ]
    },
    {
      "cell_type": "code",
      "execution_count": null,
      "metadata": {
        "id": "jkOOfq1AQsiD"
      },
      "outputs": [],
      "source": [
        "print(\"Sort your list by\"+str(list(df_table)))\n",
        "s=str(input('Enter your choice:'))#Enter string\n",
        "sorted_df=df_table.sort_values(s,ascending=False,axis=0)\n",
        "print(sorted_df)\n"
      ]
    },
    {
      "cell_type": "code",
      "execution_count": null,
      "metadata": {
        "id": "uulm0yDyU9hr"
      },
      "outputs": [],
      "source": [
        "best_algo=sorted_df.loc[0,'Algorithm']\n",
        "print('Best algorithm for your dataset is',best_algo)"
      ]
    }
  ],
  "metadata": {
    "colab": {
      "collapsed_sections": [],
      "provenance": [],
      "include_colab_link": true
    },
    "kernelspec": {
      "display_name": "Python 3",
      "name": "python3"
    },
    "language_info": {
      "name": "python"
    }
  },
  "nbformat": 4,
  "nbformat_minor": 0
}